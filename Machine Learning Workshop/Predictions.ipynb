{
 "cells": [
  {
   "cell_type": "markdown",
   "source": [
    "#### Setting up the machine learning model"
   ],
   "metadata": {
    "collapsed": false
   }
  },
  {
   "cell_type": "code",
   "execution_count": 14,
   "metadata": {
    "collapsed": true
   },
   "outputs": [],
   "source": [
    "# Imports:\n",
    "import time  # For getting runtime\n",
    "import pandas as pd  # For setting up the data frame\n",
    "from sklearn.preprocessing import StandardScaler  # For scaling the numerical variables\n",
    "import joblib  # Persistent model\n",
    "\n",
    "start_time = time.time()\n",
    "\n",
    "# Constants:\n",
    "MODEL_NAME = 'insurance-model.joblib'\n",
    "SCORE_DATASET_FILE_NAME = 'scoring-dataset.csv'\n",
    "\n",
    "INDEP_VAR = ['Gender', 'policyHolderAge', 'hasCanadianDrivingLicense', 'territory', 'hasAutoInsurance', 'hadVehicleClaimInPast', 'homeInsurancePremium', 'isOwner', 'rentedVehicle', 'hasMortgage', 'nbWeeksInsured', 'vehicleStatus']\n",
    "\n",
    "CAT_VAR = ['Gender', 'territory', 'hadVehicleClaimInPast', 'vehicleStatus']\n",
    "NUM_VAR = ['policyHolderAge', 'homeInsurancePremium', 'nbWeeksInsured']\n",
    "\n",
    "SUBMISSION_FILE_NAME = 'submission.csv'"
   ]
  },
  {
   "cell_type": "markdown",
   "source": [
    "***\n",
    "#### Making and cleaning the data frame"
   ],
   "metadata": {
    "collapsed": false
   }
  },
  {
   "cell_type": "code",
   "execution_count": 10,
   "outputs": [],
   "source": [
    "# Scoring data frame:\n",
    "score_df = pd.read_csv(SCORE_DATASET_FILE_NAME, usecols=INDEP_VAR)\n",
    "\n",
    "# Cleaning the data frame:\n",
    "score_df = score_df.fillna(0)  # Replaces NA entries with 0 for hasMortgage\n",
    "\n",
    "score_df = pd.get_dummies(score_df, columns=CAT_VAR, drop_first=True)  # Converts CAT_VAR into boolean variables\n",
    "\n",
    "scaler = StandardScaler()\n",
    "scaled_var = pd.DataFrame(scaler.fit_transform((score_df[NUM_VAR])), columns=NUM_VAR)  # Scaling the numerical variables\n",
    "score_df = score_df.drop(columns=NUM_VAR)  # Dropping the old numerical variables\n",
    "score_df = score_df.join(scaled_var)  # Joining the new numerical variables"
   ],
   "metadata": {
    "collapsed": false
   }
  },
  {
   "cell_type": "markdown",
   "source": [
    "***\n",
    "#### Predicting and exporting the predictions"
   ],
   "metadata": {
    "collapsed": false
   }
  },
  {
   "cell_type": "code",
   "execution_count": 17,
   "outputs": [
    {
     "name": "stdout",
     "output_type": "stream",
     "text": [
      "Execution time: 91.4195306301117 seconds\n",
      "0    40118\n",
      "Name: predictedResponseVariable, dtype: int64\n"
     ]
    }
   ],
   "source": [
    "# Loading the logistic regression model:\n",
    "log_reg = joblib.load(MODEL_NAME)\n",
    "\n",
    "# Predictions data frame:\n",
    "pred_df = pd.DataFrame(log_reg.predict(score_df), columns=['predictedResponseVariable'])\n",
    "\n",
    "# Policy ID data frame:\n",
    "policyId_df = pd.read_csv(SCORE_DATASET_FILE_NAME, usecols=['policyId'])\n",
    "\n",
    "# Exporting the submission data frame as a csv file:\n",
    "policyId_df.join(pred_df).to_csv(SUBMISSION_FILE_NAME, index=False)\n",
    "\n",
    "# Execution time:\n",
    "end_time = time.time()\n",
    "print(\"Execution time:\", end_time - start_time, \"seconds\")\n",
    "\n",
    "# Number of 1s:\n",
    "print(pred_df['predictedResponseVariable'].value_counts())"
   ],
   "metadata": {
    "collapsed": false
   }
  }
 ],
 "metadata": {
  "kernelspec": {
   "display_name": "Python 3",
   "language": "python",
   "name": "python3"
  },
  "language_info": {
   "codemirror_mode": {
    "name": "ipython",
    "version": 2
   },
   "file_extension": ".py",
   "mimetype": "text/x-python",
   "name": "python",
   "nbconvert_exporter": "python",
   "pygments_lexer": "ipython2",
   "version": "2.7.6"
  }
 },
 "nbformat": 4,
 "nbformat_minor": 0
}
