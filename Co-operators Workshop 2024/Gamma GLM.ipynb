{
 "cells": [
  {
   "cell_type": "markdown",
   "source": [
    "#### Setting up the Gamma GLM"
   ],
   "metadata": {
    "collapsed": false
   },
   "id": "615fa8d787a47df9"
  },
  {
   "cell_type": "code",
   "execution_count": 5,
   "id": "initial_id",
   "metadata": {
    "collapsed": true,
    "ExecuteTime": {
     "end_time": "2024-03-14T00:31:47.361984Z",
     "start_time": "2024-03-14T00:31:47.355984Z"
    }
   },
   "outputs": [],
   "source": [
    "# Imports:\n",
    "import pandas as pd  # For setting up the data frame\n",
    "from sklearn.preprocessing import StandardScaler  # For normalizing the numerical values\n",
    "from sklearn.linear_model import GammaRegressor  # For the Gamma GLM\n",
    "from sklearn.model_selection import cross_val_score  # For setting up the cross-validation\n",
    "import numpy as np\n",
    "import joblib  # Persistent model\n",
    "\n",
    "# Constants:\n",
    "DATASET_FILE_NAME = 'training-dataset.csv'\n",
    "\n",
    "INDEP_VAR = ['pol_duration', 'drv_age1', 'drv_age_lic1', 'drv_age2', 'drv_age_lic2', 'vh_age', 'vh_value', 'vh_weight']\n",
    "DEP_VAR = 'claim_amount'\n",
    "\n",
    "NUM_VAR = ['pol_duration', 'vh_age', 'vh_value/kg', 'lic1_age', 'lic2_age']\n",
    "TEMP_VAR = ['drv_age1', 'drv_age_lic1', 'drv_age2', 'drv_age_lic2', 'vh_value', 'vh_weight']\n",
    "\n",
    "MODEL_NAME = 'gamma-glm.joblib'"
   ]
  },
  {
   "cell_type": "markdown",
   "source": [
    "***\n",
    "#### Making and cleaning the data frame"
   ],
   "metadata": {
    "collapsed": false
   },
   "id": "72fbe8e75afb5792"
  },
  {
   "cell_type": "code",
   "outputs": [],
   "source": [
    "# Data frame and input set:\n",
    "X, y = pd.read_csv(DATASET_FILE_NAME, usecols=INDEP_VAR), pd.read_csv(DATASET_FILE_NAME)[DEP_VAR]\n",
    "\n",
    "# Cleaning the data frame:\n",
    "X = X.fillna(X.median())  # Replaces NA entries with the corresponding median for drv_age2, drv_age_lic2\n",
    "X['vh_weight'] = X['vh_weight'].replace(to_replace=0, value=X['vh_weight'].median())  # Replaces zero entries with vh_weight's median\n",
    "\n",
    "# Combining variables:\n",
    "X['lic1_age'] = X.apply(lambda row: row['drv_age1'] - row['drv_age_lic1'], axis=1)\n",
    "X['lic2_age'] = X.apply(lambda row: row['drv_age2'] - row['drv_age_lic2'], axis=1)\n",
    "X['vh_value/kg'] = X.apply(lambda row: row['vh_value'] / row['vh_weight'], axis=1)\n",
    "\n",
    "X = X.drop(columns=TEMP_VAR)\n",
    "\n",
    "# Scaling:\n",
    "scaler = StandardScaler()\n",
    "scaled_var = pd.DataFrame(scaler.fit_transform((X[NUM_VAR])), columns=NUM_VAR)  # Normalizing the numerical variables\n",
    "X = X.drop(columns=NUM_VAR)  # Dropping the old numerical variables\n",
    "X = X.join(scaled_var)  # Joining the new numerical variables"
   ],
   "metadata": {
    "collapsed": false,
    "ExecuteTime": {
     "end_time": "2024-03-14T00:31:47.773358Z",
     "start_time": "2024-03-14T00:31:47.425564Z"
    }
   },
   "id": "31bab424ef4d853",
   "execution_count": 6
  },
  {
   "cell_type": "markdown",
   "source": [
    "***\n",
    "#### Setting up the cross-validation and Gamma GLM"
   ],
   "metadata": {
    "collapsed": false
   },
   "id": "41846e1c3542f071"
  },
  {
   "cell_type": "code",
   "outputs": [
    {
     "data": {
      "text/plain": "      RMSE\n0  946.435\n1  959.153\n2  933.228\n3  939.493\n4  918.529",
      "text/html": "<div>\n<style scoped>\n    .dataframe tbody tr th:only-of-type {\n        vertical-align: middle;\n    }\n\n    .dataframe tbody tr th {\n        vertical-align: top;\n    }\n\n    .dataframe thead th {\n        text-align: right;\n    }\n</style>\n<table border=\"1\" class=\"dataframe\">\n  <thead>\n    <tr style=\"text-align: right;\">\n      <th></th>\n      <th>RMSE</th>\n    </tr>\n  </thead>\n  <tbody>\n    <tr>\n      <th>0</th>\n      <td>946.435</td>\n    </tr>\n    <tr>\n      <th>1</th>\n      <td>959.153</td>\n    </tr>\n    <tr>\n      <th>2</th>\n      <td>933.228</td>\n    </tr>\n    <tr>\n      <th>3</th>\n      <td>939.493</td>\n    </tr>\n    <tr>\n      <th>4</th>\n      <td>918.529</td>\n    </tr>\n  </tbody>\n</table>\n</div>"
     },
     "metadata": {},
     "output_type": "display_data"
    }
   ],
   "source": [
    "# Gamma GLM:\n",
    "gamma_glm = GammaRegressor()\n",
    "\n",
    "# RMSE:\n",
    "RMSE = pd.DataFrame(np.negative(np.round(cross_val_score(gamma_glm, X, y, scoring='neg_root_mean_squared_error'), 3)), columns=['RMSE'])\n",
    "display(RMSE)"
   ],
   "metadata": {
    "collapsed": false,
    "ExecuteTime": {
     "end_time": "2024-03-14T00:31:47.868859Z",
     "start_time": "2024-03-14T00:31:47.775344Z"
    }
   },
   "id": "5a22c9c8b4cd857",
   "execution_count": 7
  },
  {
   "cell_type": "markdown",
   "source": [
    "***\n",
    "#### Exporting the model"
   ],
   "metadata": {
    "collapsed": false
   },
   "id": "efe9136307681073"
  },
  {
   "cell_type": "code",
   "outputs": [
    {
     "data": {
      "text/plain": "['gamma-glm.joblib']"
     },
     "execution_count": 8,
     "metadata": {},
     "output_type": "execute_result"
    }
   ],
   "source": [
    "# Persistent model:\n",
    "gamma_glm.fit(X, y)\n",
    "joblib.dump(gamma_glm, MODEL_NAME)"
   ],
   "metadata": {
    "collapsed": false,
    "ExecuteTime": {
     "end_time": "2024-03-14T00:31:47.931042Z",
     "start_time": "2024-03-14T00:31:47.881896Z"
    }
   },
   "id": "4d25d1ff9fa1257a",
   "execution_count": 8
  }
 ],
 "metadata": {
  "kernelspec": {
   "display_name": "Python 3",
   "language": "python",
   "name": "python3"
  },
  "language_info": {
   "codemirror_mode": {
    "name": "ipython",
    "version": 2
   },
   "file_extension": ".py",
   "mimetype": "text/x-python",
   "name": "python",
   "nbconvert_exporter": "python",
   "pygments_lexer": "ipython2",
   "version": "2.7.6"
  }
 },
 "nbformat": 4,
 "nbformat_minor": 5
}
