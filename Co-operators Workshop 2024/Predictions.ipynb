{
 "cells": [
  {
   "cell_type": "markdown",
   "source": [
    "#### Setting up the Gamma GLM"
   ],
   "metadata": {
    "collapsed": false
   },
   "id": "c839f75a6da0c275"
  },
  {
   "cell_type": "code",
   "execution_count": 11,
   "id": "initial_id",
   "metadata": {
    "collapsed": true,
    "ExecuteTime": {
     "end_time": "2024-03-13T03:29:52.301014Z",
     "start_time": "2024-03-13T03:29:52.275468Z"
    }
   },
   "outputs": [],
   "source": [
    "# Imports:\n",
    "import pandas as pd  # For setting up the data frame\n",
    "from sklearn.preprocessing import StandardScaler  # For normalizing the numerical values\n",
    "import joblib  # Persistent model\n",
    "\n",
    "# Constants:\n",
    "MODEL_NAME = 'gamma-glm.joblib'\n",
    "SCORE_DATASET_FILE_NAME = 'scoring-dataset.csv'\n",
    "\n",
    "INDEP_VAR = ['pol_duration', 'drv_age1', 'drv_age_lic1', 'drv_age2', 'drv_age_lic2', 'vh_age', 'vh_value', 'vh_weight']\n",
    "DEP_VAR = 'claim_amount'\n",
    "\n",
    "NUM_VAR = ['pol_duration', 'vh_age', 'vh_value/kg', 'lic1_age', 'lic2_age']\n",
    "TEMP_VAR = ['drv_age1', 'drv_age_lic1', 'drv_age2', 'drv_age_lic2', 'vh_value', 'vh_weight']\n",
    "\n",
    "SUBMISSION_FILE_NAME = 'submission.csv'"
   ]
  },
  {
   "cell_type": "markdown",
   "source": [
    "***\n",
    "#### Making and cleaning the data frame"
   ],
   "metadata": {
    "collapsed": false
   },
   "id": "989b25bbb2ae5437"
  },
  {
   "cell_type": "code",
   "outputs": [],
   "source": [
    "# Data frame and input set:\n",
    "score_df = pd.read_csv(SCORE_DATASET_FILE_NAME, usecols=INDEP_VAR)\n",
    "\n",
    "# Cleaning the data frame:\n",
    "score_df = score_df.fillna(score_df.median())  # Replaces NA entries with 0 for drv_age2, drv_age_lic2\n",
    "score_df['vh_weight'] = score_df['vh_weight'].replace(to_replace=0, value=score_df['vh_weight'].median())  # Replaces zero entries with vh_weight's median\n",
    "\n",
    "# Combining variables:\n",
    "score_df['lic1_age'] = score_df.apply(lambda row: row['drv_age1'] - row['drv_age_lic1'], axis=1)\n",
    "score_df['lic2_age'] = score_df.apply(lambda row: row['drv_age2'] - row['drv_age_lic2'], axis=1)\n",
    "score_df['vh_value/kg'] = score_df.apply(lambda row: row['vh_value'] / row['vh_weight'], axis=1)\n",
    "\n",
    "score_df = score_df.drop(columns=TEMP_VAR)\n",
    "\n",
    "# Scaling:\n",
    "scaler = StandardScaler()\n",
    "scaled_var = pd.DataFrame(scaler.fit_transform((score_df[NUM_VAR])), columns=NUM_VAR)  # Normalizing the numerical variables\n",
    "score_df = score_df.drop(columns=NUM_VAR)  # Dropping the old numerical variables\n",
    "score_df = score_df.join(scaled_var)  # Joining the new numerical variables"
   ],
   "metadata": {
    "collapsed": false,
    "ExecuteTime": {
     "end_time": "2024-03-13T03:29:52.505970Z",
     "start_time": "2024-03-13T03:29:52.307003Z"
    }
   },
   "id": "eecbf11d1dacc2e9",
   "execution_count": 12
  },
  {
   "cell_type": "markdown",
   "source": [
    "***\n",
    "#### Predicting and exporting the predictions"
   ],
   "metadata": {
    "collapsed": false
   },
   "id": "7da62491c524150"
  },
  {
   "cell_type": "code",
   "outputs": [],
   "source": [
    "# Loading the Gamma GLM:\n",
    "gamma_glm = joblib.load(MODEL_NAME)\n",
    "\n",
    "# Predictions data frame:\n",
    "pred_df = pd.DataFrame(gamma_glm.predict(score_df), columns=['claim_amount'])\n",
    "\n",
    "# Policy ID data frame:\n",
    "id_policy_df = pd.read_csv(SCORE_DATASET_FILE_NAME, usecols=['id_policy'])\n",
    "\n",
    "# Exporting the submission data frame as a csv file:\n",
    "id_policy_df.join(pred_df).to_csv(SUBMISSION_FILE_NAME, index=False)"
   ],
   "metadata": {
    "collapsed": false,
    "ExecuteTime": {
     "end_time": "2024-03-13T03:29:52.553973Z",
     "start_time": "2024-03-13T03:29:52.508969Z"
    }
   },
   "id": "fd56ee7856bbea33",
   "execution_count": 13
  }
 ],
 "metadata": {
  "kernelspec": {
   "display_name": "Python 3",
   "language": "python",
   "name": "python3"
  },
  "language_info": {
   "codemirror_mode": {
    "name": "ipython",
    "version": 2
   },
   "file_extension": ".py",
   "mimetype": "text/x-python",
   "name": "python",
   "nbconvert_exporter": "python",
   "pygments_lexer": "ipython2",
   "version": "2.7.6"
  }
 },
 "nbformat": 4,
 "nbformat_minor": 5
}
