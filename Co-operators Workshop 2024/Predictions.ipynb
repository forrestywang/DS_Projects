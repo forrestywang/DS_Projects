{
 "cells": [
  {
   "cell_type": "markdown",
   "source": [
    "#### Setting up the Gamma GLM"
   ],
   "metadata": {
    "collapsed": false
   },
   "id": "c839f75a6da0c275"
  },
  {
   "cell_type": "code",
   "execution_count": 24,
   "id": "initial_id",
   "metadata": {
    "collapsed": true,
    "ExecuteTime": {
     "end_time": "2024-02-27T03:11:00.189639Z",
     "start_time": "2024-02-27T03:11:00.142180Z"
    }
   },
   "outputs": [],
   "source": [
    "# Imports:\n",
    "import pandas as pd  # For setting up the data frame\n",
    "from sklearn.preprocessing import StandardScaler  # For normalizing the numerical values\n",
    "import joblib  # Persistent model\n",
    "\n",
    "# Constants:\n",
    "MODEL_NAME = 'gamma-glm.joblib'\n",
    "SCORE_DATASET_FILE_NAME = 'scoring-dataset.csv'\n",
    "\n",
    "INDEP_VAR = ['year', 'pol_no_claims_discount', 'pol_duration', 'pol_pay_freq', 'pol_payd', 'pol_usage', 'drv_sex1', 'drv_age1', 'drv_age_lic1', 'drv_drv2', 'drv_sex2', 'drv_age2', 'drv_age_lic2','vh_age', 'vh_fuel', 'vh_type', 'vh_speed', 'vh_value', 'vh_weight', 'population', 'town_surface_area']\n",
    "\n",
    "CAT_VAR = ['pol_pay_freq', 'pol_payd', 'pol_usage', 'drv_sex1', 'drv_drv2', 'drv_sex2', 'vh_fuel', 'vh_type']\n",
    "NUM_VAR = ['year', 'pol_no_claims_discount', 'pol_duration', 'drv_age1', 'drv_age_lic1', 'drv_age2', 'drv_age_lic2', 'vh_age', 'vh_speed', 'vh_value', 'vh_weight', 'population', 'town_surface_area']\n",
    "\n",
    "SUBMISSION_FILE_NAME = 'submission-1.csv'"
   ]
  },
  {
   "cell_type": "markdown",
   "source": [
    "***\n",
    "#### Making and cleaning the data frame"
   ],
   "metadata": {
    "collapsed": false
   },
   "id": "989b25bbb2ae5437"
  },
  {
   "cell_type": "code",
   "outputs": [],
   "source": [
    "# Data frame and input set:\n",
    "score_df = pd.read_csv(SCORE_DATASET_FILE_NAME, usecols=INDEP_VAR)\n",
    "\n",
    "# Cleaning the data frame:\n",
    "score_df = score_df.fillna(0)  # Replaces NA entries with 0 for drv_age2, drv_age_lic2, vh_speed, vh_value, and vh_weight\n",
    "score_df = pd.get_dummies(score_df, columns=CAT_VAR, drop_first=True)  # Converts CAT_VAR into boolean variables\n",
    "\n",
    "scaler = StandardScaler()\n",
    "scaled_var = pd.DataFrame(scaler.fit_transform((score_df[NUM_VAR])), columns=NUM_VAR)  # Normalizing the numerical variables\n",
    "score_df = score_df.drop(columns=NUM_VAR)  # Dropping the old numerical variables\n",
    "score_df = score_df.join(scaled_var)  # Joining the new numerical variables"
   ],
   "metadata": {
    "collapsed": false,
    "ExecuteTime": {
     "end_time": "2024-02-27T03:11:00.299190Z",
     "start_time": "2024-02-27T03:11:00.193568Z"
    }
   },
   "id": "eecbf11d1dacc2e9",
   "execution_count": 25
  },
  {
   "cell_type": "markdown",
   "source": [
    "***\n",
    "#### Predicting and exporting the predictions"
   ],
   "metadata": {
    "collapsed": false
   },
   "id": "7da62491c524150"
  },
  {
   "cell_type": "code",
   "outputs": [],
   "source": [
    "# Loading the Gamma GLM:\n",
    "gamma_glm = joblib.load(MODEL_NAME)\n",
    "\n",
    "# Predictions data frame:\n",
    "pred_df = pd.DataFrame(gamma_glm.predict(score_df), columns=['claim_amount'])\n",
    "\n",
    "# Policy ID data frame:\n",
    "id_policy_df = pd.read_csv(SCORE_DATASET_FILE_NAME, usecols=['id_policy'])\n",
    "\n",
    "# Exporting the submission data frame as a csv file:\n",
    "id_policy_df.join(pred_df).to_csv(SUBMISSION_FILE_NAME, index=False)"
   ],
   "metadata": {
    "collapsed": false,
    "ExecuteTime": {
     "end_time": "2024-02-27T03:11:00.361677Z",
     "start_time": "2024-02-27T03:11:00.301336Z"
    }
   },
   "id": "fd56ee7856bbea33",
   "execution_count": 26
  }
 ],
 "metadata": {
  "kernelspec": {
   "display_name": "Python 3",
   "language": "python",
   "name": "python3"
  },
  "language_info": {
   "codemirror_mode": {
    "name": "ipython",
    "version": 2
   },
   "file_extension": ".py",
   "mimetype": "text/x-python",
   "name": "python",
   "nbconvert_exporter": "python",
   "pygments_lexer": "ipython2",
   "version": "2.7.6"
  }
 },
 "nbformat": 4,
 "nbformat_minor": 5
}
