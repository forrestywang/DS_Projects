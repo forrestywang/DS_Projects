{
 "cells": [
  {
   "cell_type": "markdown",
   "id": "77788ca3",
   "metadata": {},
   "source": [
    "#### Setting up the machine learning model"
   ]
  },
  {
   "cell_type": "code",
   "execution_count": 1,
   "id": "9602ad68",
   "metadata": {
    "ExecuteTime": {
     "end_time": "2023-05-29T03:28:10.396655Z",
     "start_time": "2023-05-29T03:28:09.130072700Z"
    }
   },
   "outputs": [],
   "source": [
    "# Imports:\n",
    "import pandas as pd  # For setting up the data frame\n",
    "from sklearn.linear_model import LogisticRegression  # For the logistic regression model\n",
    "from sklearn.model_selection import train_test_split  # For setting up the train-test modularization\n",
    "from sklearn.metrics import accuracy_score  # For testing accuracy\n",
    "import numpy as np  # For the coefficient data frame\n",
    "import joblib  # Persistent model\n",
    "\n",
    "# Constants:\n",
    "DATASET_FILE_NAME = 'titanic.csv'\n",
    "\n",
    "DEP_VAR = ['Pclass', 'Sex', 'Age']\n",
    "INDEP_VAR = 'Survived'\n",
    "\n",
    "CAT_VAR = ['Sex']\n",
    "\n",
    "MODEL_NAME = 'titanic-model.joblib'"
   ]
  },
  {
   "cell_type": "markdown",
   "source": [
    "***\n",
    "#### Making and cleaning the data frame"
   ],
   "metadata": {
    "collapsed": false
   }
  },
  {
   "cell_type": "code",
   "execution_count": 2,
   "outputs": [],
   "source": [
    "# Data frame:\n",
    "X, y = pd.read_csv(DATASET_FILE_NAME, usecols=DEP_VAR), pd.read_csv(DATASET_FILE_NAME)[INDEP_VAR]\n",
    "X = pd.get_dummies(X, columns=CAT_VAR, drop_first=True)"
   ],
   "metadata": {
    "collapsed": false,
    "ExecuteTime": {
     "end_time": "2023-05-29T03:28:10.450255800Z",
     "start_time": "2023-05-29T03:28:10.396655Z"
    }
   }
  },
  {
   "cell_type": "markdown",
   "id": "8444f00b",
   "metadata": {},
   "source": [
    "***\n",
    "#### Setting up the train-test modularization and logistic regression model"
   ]
  },
  {
   "cell_type": "code",
   "execution_count": 3,
   "id": "6d5febd4",
   "metadata": {
    "ExecuteTime": {
     "end_time": "2023-05-29T03:28:10.476755600Z",
     "start_time": "2023-05-29T03:28:10.430213Z"
    }
   },
   "outputs": [
    {
     "data": {
      "text/plain": "LogisticRegression()",
      "text/html": "<style>#sk-container-id-1 {color: black;background-color: white;}#sk-container-id-1 pre{padding: 0;}#sk-container-id-1 div.sk-toggleable {background-color: white;}#sk-container-id-1 label.sk-toggleable__label {cursor: pointer;display: block;width: 100%;margin-bottom: 0;padding: 0.3em;box-sizing: border-box;text-align: center;}#sk-container-id-1 label.sk-toggleable__label-arrow:before {content: \"▸\";float: left;margin-right: 0.25em;color: #696969;}#sk-container-id-1 label.sk-toggleable__label-arrow:hover:before {color: black;}#sk-container-id-1 div.sk-estimator:hover label.sk-toggleable__label-arrow:before {color: black;}#sk-container-id-1 div.sk-toggleable__content {max-height: 0;max-width: 0;overflow: hidden;text-align: left;background-color: #f0f8ff;}#sk-container-id-1 div.sk-toggleable__content pre {margin: 0.2em;color: black;border-radius: 0.25em;background-color: #f0f8ff;}#sk-container-id-1 input.sk-toggleable__control:checked~div.sk-toggleable__content {max-height: 200px;max-width: 100%;overflow: auto;}#sk-container-id-1 input.sk-toggleable__control:checked~label.sk-toggleable__label-arrow:before {content: \"▾\";}#sk-container-id-1 div.sk-estimator input.sk-toggleable__control:checked~label.sk-toggleable__label {background-color: #d4ebff;}#sk-container-id-1 div.sk-label input.sk-toggleable__control:checked~label.sk-toggleable__label {background-color: #d4ebff;}#sk-container-id-1 input.sk-hidden--visually {border: 0;clip: rect(1px 1px 1px 1px);clip: rect(1px, 1px, 1px, 1px);height: 1px;margin: -1px;overflow: hidden;padding: 0;position: absolute;width: 1px;}#sk-container-id-1 div.sk-estimator {font-family: monospace;background-color: #f0f8ff;border: 1px dotted black;border-radius: 0.25em;box-sizing: border-box;margin-bottom: 0.5em;}#sk-container-id-1 div.sk-estimator:hover {background-color: #d4ebff;}#sk-container-id-1 div.sk-parallel-item::after {content: \"\";width: 100%;border-bottom: 1px solid gray;flex-grow: 1;}#sk-container-id-1 div.sk-label:hover label.sk-toggleable__label {background-color: #d4ebff;}#sk-container-id-1 div.sk-serial::before {content: \"\";position: absolute;border-left: 1px solid gray;box-sizing: border-box;top: 0;bottom: 0;left: 50%;z-index: 0;}#sk-container-id-1 div.sk-serial {display: flex;flex-direction: column;align-items: center;background-color: white;padding-right: 0.2em;padding-left: 0.2em;position: relative;}#sk-container-id-1 div.sk-item {position: relative;z-index: 1;}#sk-container-id-1 div.sk-parallel {display: flex;align-items: stretch;justify-content: center;background-color: white;position: relative;}#sk-container-id-1 div.sk-item::before, #sk-container-id-1 div.sk-parallel-item::before {content: \"\";position: absolute;border-left: 1px solid gray;box-sizing: border-box;top: 0;bottom: 0;left: 50%;z-index: -1;}#sk-container-id-1 div.sk-parallel-item {display: flex;flex-direction: column;z-index: 1;position: relative;background-color: white;}#sk-container-id-1 div.sk-parallel-item:first-child::after {align-self: flex-end;width: 50%;}#sk-container-id-1 div.sk-parallel-item:last-child::after {align-self: flex-start;width: 50%;}#sk-container-id-1 div.sk-parallel-item:only-child::after {width: 0;}#sk-container-id-1 div.sk-dashed-wrapped {border: 1px dashed gray;margin: 0 0.4em 0.5em 0.4em;box-sizing: border-box;padding-bottom: 0.4em;background-color: white;}#sk-container-id-1 div.sk-label label {font-family: monospace;font-weight: bold;display: inline-block;line-height: 1.2em;}#sk-container-id-1 div.sk-label-container {text-align: center;}#sk-container-id-1 div.sk-container {/* jupyter's `normalize.less` sets `[hidden] { display: none; }` but bootstrap.min.css set `[hidden] { display: none !important; }` so we also need the `!important` here to be able to override the default hidden behavior on the sphinx rendered scikit-learn.org. See: https://github.com/scikit-learn/scikit-learn/issues/21755 */display: inline-block !important;position: relative;}#sk-container-id-1 div.sk-text-repr-fallback {display: none;}</style><div id=\"sk-container-id-1\" class=\"sk-top-container\"><div class=\"sk-text-repr-fallback\"><pre>LogisticRegression()</pre><b>In a Jupyter environment, please rerun this cell to show the HTML representation or trust the notebook. <br />On GitHub, the HTML representation is unable to render, please try loading this page with nbviewer.org.</b></div><div class=\"sk-container\" hidden><div class=\"sk-item\"><div class=\"sk-estimator sk-toggleable\"><input class=\"sk-toggleable__control sk-hidden--visually\" id=\"sk-estimator-id-1\" type=\"checkbox\" checked><label for=\"sk-estimator-id-1\" class=\"sk-toggleable__label sk-toggleable__label-arrow\">LogisticRegression</label><div class=\"sk-toggleable__content\"><pre>LogisticRegression()</pre></div></div></div></div></div>"
     },
     "execution_count": 3,
     "metadata": {},
     "output_type": "execute_result"
    }
   ],
   "source": [
    "# Testing and training sets:\n",
    "X_train, X_test, y_train, y_test = train_test_split(X, y, train_size=0.8)\n",
    "\n",
    "# Logistic regression model:\n",
    "log_reg = LogisticRegression()\n",
    "log_reg.fit(X_train, y_train)\n",
    "\n",
    "# log_reg = joblib.load(MODEL_NAME)"
   ]
  },
  {
   "cell_type": "markdown",
   "id": "058f1589",
   "metadata": {},
   "source": [
    "***\n",
    "#### Predicting the test set and calculating the accuracy"
   ]
  },
  {
   "cell_type": "code",
   "execution_count": 4,
   "id": "09956c59",
   "metadata": {
    "ExecuteTime": {
     "end_time": "2023-05-29T03:28:10.534989400Z",
     "start_time": "2023-05-29T03:28:10.482793700Z"
    }
   },
   "outputs": [
    {
     "name": "stdout",
     "output_type": "stream",
     "text": [
      "Accuracy: 80.33707865168539%\n"
     ]
    }
   ],
   "source": [
    "# Predictions:\n",
    "predictions = log_reg.predict(X_test)\n",
    "\n",
    "# Accuracy score:\n",
    "score = accuracy_score(y_test, predictions) * 100\n",
    "print(\"Accuracy:\", score, '\\b%')"
   ]
  },
  {
   "cell_type": "markdown",
   "id": "2219cc41",
   "metadata": {},
   "source": [
    "***\n",
    "#### Exporting the model"
   ]
  },
  {
   "cell_type": "code",
   "execution_count": null,
   "id": "713568fc",
   "metadata": {
    "is_executing": true,
    "ExecuteTime": {
     "start_time": "2023-05-29T03:28:10.531000300Z"
    }
   },
   "outputs": [],
   "source": [
    "# Persistent model:\n",
    "joblib.dump(log_reg, MODEL_NAME)"
   ]
  }
 ],
 "metadata": {
  "kernelspec": {
   "display_name": "Python 3 (ipykernel)",
   "language": "python",
   "name": "python3"
  },
  "language_info": {
   "codemirror_mode": {
    "name": "ipython",
    "version": 3
   },
   "file_extension": ".py",
   "mimetype": "text/x-python",
   "name": "python",
   "nbconvert_exporter": "python",
   "pygments_lexer": "ipython3",
   "version": "3.9.7"
  }
 },
 "nbformat": 4,
 "nbformat_minor": 5
}
